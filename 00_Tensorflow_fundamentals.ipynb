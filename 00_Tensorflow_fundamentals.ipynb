{
  "nbformat": 4,
  "nbformat_minor": 0,
  "metadata": {
    "colab": {
      "provenance": [],
      "authorship_tag": "ABX9TyNsb3jYExgMl4MFGSO9Naxx",
      "include_colab_link": true
    },
    "kernelspec": {
      "name": "python3",
      "display_name": "Python 3"
    },
    "language_info": {
      "name": "python"
    }
  },
  "cells": [
    {
      "cell_type": "markdown",
      "metadata": {
        "id": "view-in-github",
        "colab_type": "text"
      },
      "source": [
        "<a href=\"https://colab.research.google.com/github/Pritush09/Deeplearning-Tensorflow/blob/master/00_Tensorflow_fundamentals.ipynb\" target=\"_parent\"><img src=\"https://colab.research.google.com/assets/colab-badge.svg\" alt=\"Open In Colab\"/></a>"
      ]
    },
    {
      "cell_type": "code",
      "execution_count": null,
      "metadata": {
        "id": "mKsDSvaqSYEB"
      },
      "outputs": [],
      "source": [
        "import tensorflow as tf"
      ]
    },
    {
      "cell_type": "markdown",
      "source": [
        "https://github.com/mrdbourke/tensorflow-deep-learning/blob/main/00_tensorflow_fundamentals.ipynb"
      ],
      "metadata": {
        "id": "bS7AAlb4RL4_"
      }
    },
    {
      "cell_type": "code",
      "source": [
        "# press ctrl + shift + space to see the suggestion of the parameters inside the function\n",
        "scalar = tf.constant([[7,3,4],\n",
        "                      [2,1,3]])"
      ],
      "metadata": {
        "id": "hGKMu25iSaXF"
      },
      "execution_count": null,
      "outputs": []
    },
    {
      "cell_type": "code",
      "source": [
        "scalar.ndim"
      ],
      "metadata": {
        "colab": {
          "base_uri": "https://localhost:8080/"
        },
        "id": "dLudbi9zTACC",
        "outputId": "e1a51a94-3f7d-49d1-b1ee-19201a1c6f46"
      },
      "execution_count": null,
      "outputs": [
        {
          "output_type": "execute_result",
          "data": {
            "text/plain": [
              "2"
            ]
          },
          "metadata": {},
          "execution_count": 3
        }
      ]
    },
    {
      "cell_type": "code",
      "source": [
        "scalar.shape"
      ],
      "metadata": {
        "colab": {
          "base_uri": "https://localhost:8080/"
        },
        "id": "EtyICkAHTYdy",
        "outputId": "2130c6ab-b60f-45ac-adb2-09bb34aa5a20"
      },
      "execution_count": null,
      "outputs": [
        {
          "output_type": "execute_result",
          "data": {
            "text/plain": [
              "TensorShape([2, 3])"
            ]
          },
          "metadata": {},
          "execution_count": 4
        }
      ]
    },
    {
      "cell_type": "code",
      "source": [
        "changable= tf.Variable([3,3])\n",
        "changable"
      ],
      "metadata": {
        "colab": {
          "base_uri": "https://localhost:8080/"
        },
        "id": "5RNlyhmZTshl",
        "outputId": "edc0a444-b583-4ff8-ac51-e9c8373d4301"
      },
      "execution_count": null,
      "outputs": [
        {
          "output_type": "execute_result",
          "data": {
            "text/plain": [
              "<tf.Variable 'Variable:0' shape=(2,) dtype=int32, numpy=array([3, 3], dtype=int32)>"
            ]
          },
          "metadata": {},
          "execution_count": 6
        }
      ]
    },
    {
      "cell_type": "code",
      "source": [
        "changable[0].assign(2)"
      ],
      "metadata": {
        "colab": {
          "base_uri": "https://localhost:8080/"
        },
        "id": "ySu8DJ4tQMJk",
        "outputId": "c1189e72-ea0d-40d7-8070-c7528ffc79a1"
      },
      "execution_count": null,
      "outputs": [
        {
          "output_type": "execute_result",
          "data": {
            "text/plain": [
              "<tf.Variable 'UnreadVariable' shape=(2,) dtype=int32, numpy=array([2, 3], dtype=int32)>"
            ]
          },
          "metadata": {},
          "execution_count": 7
        }
      ]
    },
    {
      "cell_type": "code",
      "source": [
        "# random tensor\n",
        "ran1 =  tf.random.Generator.from_seed(42) # the seed is for the reproducibility\n",
        "ran1 = ran1.normal(shape=(3,2)) # it is of the normal form\n",
        "ran1"
      ],
      "metadata": {
        "id": "SB3JGbqeQqxA",
        "colab": {
          "base_uri": "https://localhost:8080/"
        },
        "outputId": "129bee4b-dc54-4929-c19c-7ef8f615e251"
      },
      "execution_count": 9,
      "outputs": [
        {
          "output_type": "execute_result",
          "data": {
            "text/plain": [
              "<tf.Tensor: shape=(3, 2), dtype=float32, numpy=\n",
              "array([[-0.7565803 , -0.06854702],\n",
              "       [ 0.07595026, -1.2573844 ],\n",
              "       [-0.23193763, -1.8107855 ]], dtype=float32)>"
            ]
          },
          "metadata": {},
          "execution_count": 9
        }
      ]
    },
    {
      "cell_type": "code",
      "source": [
        "ran2 =  tf.random.Generator.from_seed(42) # the seed is for the reproducibility\n",
        "ran2 = ran2.normal(shape=(3,2)) # it is of the normal form\n",
        "ran2"
      ],
      "metadata": {
        "colab": {
          "base_uri": "https://localhost:8080/"
        },
        "id": "sKGPUdveXSUy",
        "outputId": "507ae45a-43e3-4ff1-bd6e-e33028c4adc8"
      },
      "execution_count": 10,
      "outputs": [
        {
          "output_type": "execute_result",
          "data": {
            "text/plain": [
              "<tf.Tensor: shape=(3, 2), dtype=float32, numpy=\n",
              "array([[-0.7565803 , -0.06854702],\n",
              "       [ 0.07595026, -1.2573844 ],\n",
              "       [-0.23193763, -1.8107855 ]], dtype=float32)>"
            ]
          },
          "metadata": {},
          "execution_count": 10
        }
      ]
    },
    {
      "cell_type": "code",
      "source": [
        "# shuffle the tensor\n",
        "# so to feed the NN by mixed up photos of different foods\n",
        "shuffle = tf.constant([[7,3,4],\n",
        "                      [2,1,3],\n",
        "                      [1,1,2],\n",
        "                      [22,2,3]])\n",
        "shuffle"
      ],
      "metadata": {
        "colab": {
          "base_uri": "https://localhost:8080/"
        },
        "id": "o88crpmnXwGP",
        "outputId": "5a7c468d-3ca2-4f6e-e89a-c463438cc746"
      },
      "execution_count": 11,
      "outputs": [
        {
          "output_type": "execute_result",
          "data": {
            "text/plain": [
              "<tf.Tensor: shape=(4, 3), dtype=int32, numpy=\n",
              "array([[ 7,  3,  4],\n",
              "       [ 2,  1,  3],\n",
              "       [ 1,  1,  2],\n",
              "       [22,  2,  3]], dtype=int32)>"
            ]
          },
          "metadata": {},
          "execution_count": 11
        }
      ]
    },
    {
      "cell_type": "code",
      "source": [
        "tf.random.shuffle(value=shuffle)\n",
        "# this shuffle the data on the basis of the first dimension without hampering the second one"
      ],
      "metadata": {
        "colab": {
          "base_uri": "https://localhost:8080/"
        },
        "id": "srB9bn9UYv6Z",
        "outputId": "3467afc6-da6e-4290-99be-569240166d39"
      },
      "execution_count": 13,
      "outputs": [
        {
          "output_type": "execute_result",
          "data": {
            "text/plain": [
              "<tf.Tensor: shape=(4, 3), dtype=int32, numpy=\n",
              "array([[22,  2,  3],\n",
              "       [ 2,  1,  3],\n",
              "       [ 7,  3,  4],\n",
              "       [ 1,  1,  2]], dtype=int32)>"
            ]
          },
          "metadata": {},
          "execution_count": 13
        }
      ]
    },
    {
      "cell_type": "code",
      "source": [
        "# what will happen if we use seed\n",
        "tf.random.set_seed(4)\n",
        "# after seting the seed the changes are the same\n",
        "tf.random.shuffle(value=shuffle) # if we only use seed in the arg of this function then it will have ho effect "
      ],
      "metadata": {
        "colab": {
          "base_uri": "https://localhost:8080/"
        },
        "id": "Zy6F2JcBY7NR",
        "outputId": "6f2ca3ef-f9ea-4503-d659-28018961d547"
      },
      "execution_count": 20,
      "outputs": [
        {
          "output_type": "execute_result",
          "data": {
            "text/plain": [
              "<tf.Tensor: shape=(4, 3), dtype=int32, numpy=\n",
              "array([[22,  2,  3],\n",
              "       [ 7,  3,  4],\n",
              "       [ 2,  1,  3],\n",
              "       [ 1,  1,  2]], dtype=int32)>"
            ]
          },
          "metadata": {},
          "execution_count": 20
        }
      ]
    },
    {
      "cell_type": "markdown",
      "source": [
        "**LINK** : https://www.tensorflow.org/api_docs/python/tf/random/set_seed\n",
        "TO refer"
      ],
      "metadata": {
        "id": "m3uIZMiiZqK7"
      }
    },
    {
      "cell_type": "code",
      "source": [],
      "metadata": {
        "id": "3TV-xTGibTsX"
      },
      "execution_count": null,
      "outputs": []
    }
  ]
}